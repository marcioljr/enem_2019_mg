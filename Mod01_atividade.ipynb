{
 "cells": [
  {
   "cell_type": "code",
   "execution_count": 14,
   "metadata": {},
   "outputs": [],
   "source": [
    "# Importar Bibliotecas Necessárias\n",
    "\n",
    "import pandas as pd\n",
    "import numpy as np\n",
    "import zipfile\n",
    "import requests\n",
    "from io import BytesIO\n",
    "import os"
   ]
  },
  {
   "cell_type": "code",
   "execution_count": 2,
   "metadata": {},
   "outputs": [],
   "source": [
    "# Criar diretório para armazenas o conteúdo do ENADE\n",
    "os.makedirs('./enem2019', exist_ok = True)"
   ]
  },
  {
   "cell_type": "code",
   "execution_count": 3,
   "metadata": {},
   "outputs": [],
   "source": [
    "# Define a url\n",
    "url = \"https://download.inep.gov.br/microdados/microdados_enem_2019.zip\"\n",
    "\n",
    "#Faz o download do conteúdo\n",
    "filebytes = BytesIO(\n",
    "    requests.get(url).content\n",
    ")\n",
    "\n",
    "#Extrair o conteúdo do zipfile\n",
    "myzip = zipfile.ZipFile(filebytes)\n",
    "myzip.extractall(\"enem2019\")"
   ]
  },
  {
   "cell_type": "code",
   "execution_count": 4,
   "metadata": {},
   "outputs": [],
   "source": [
    "# Lendo o .csv\n",
    "enem = pd.read_csv(    \n",
    "    \"./enem2019/DADOS/MICRODADOS_ENEM_2019.csv\", encoding = \"ISO-8859-1\", sep = ';', decimal = ','\n",
    ")"
   ]
  },
  {
   "cell_type": "code",
   "execution_count": 5,
   "metadata": {},
   "outputs": [
    {
     "data": {
      "text/plain": [
       "{'NU_INSCRICAO': dtype('int64'),\n",
       " 'NU_ANO': dtype('int64'),\n",
       " 'CO_MUNICIPIO_RESIDENCIA': dtype('int64'),\n",
       " 'NO_MUNICIPIO_RESIDENCIA': dtype('O'),\n",
       " 'CO_UF_RESIDENCIA': dtype('int64'),\n",
       " 'SG_UF_RESIDENCIA': dtype('O'),\n",
       " 'NU_IDADE': dtype('int64'),\n",
       " 'TP_SEXO': dtype('O'),\n",
       " 'TP_ESTADO_CIVIL': dtype('int64'),\n",
       " 'TP_COR_RACA': dtype('int64'),\n",
       " 'TP_NACIONALIDADE': dtype('int64'),\n",
       " 'CO_MUNICIPIO_NASCIMENTO': dtype('float64'),\n",
       " 'NO_MUNICIPIO_NASCIMENTO': dtype('O'),\n",
       " 'CO_UF_NASCIMENTO': dtype('float64'),\n",
       " 'SG_UF_NASCIMENTO': dtype('O'),\n",
       " 'TP_ST_CONCLUSAO': dtype('int64'),\n",
       " 'TP_ANO_CONCLUIU': dtype('int64'),\n",
       " 'TP_ESCOLA': dtype('int64'),\n",
       " 'TP_ENSINO': dtype('float64'),\n",
       " 'IN_TREINEIRO': dtype('int64'),\n",
       " 'CO_ESCOLA': dtype('float64'),\n",
       " 'CO_MUNICIPIO_ESC': dtype('float64'),\n",
       " 'NO_MUNICIPIO_ESC': dtype('O'),\n",
       " 'CO_UF_ESC': dtype('float64'),\n",
       " 'SG_UF_ESC': dtype('O'),\n",
       " 'TP_DEPENDENCIA_ADM_ESC': dtype('float64'),\n",
       " 'TP_LOCALIZACAO_ESC': dtype('float64'),\n",
       " 'TP_SIT_FUNC_ESC': dtype('float64'),\n",
       " 'IN_BAIXA_VISAO': dtype('int64'),\n",
       " 'IN_CEGUEIRA': dtype('int64'),\n",
       " 'IN_SURDEZ': dtype('int64'),\n",
       " 'IN_DEFICIENCIA_AUDITIVA': dtype('int64'),\n",
       " 'IN_SURDO_CEGUEIRA': dtype('int64'),\n",
       " 'IN_DEFICIENCIA_FISICA': dtype('int64'),\n",
       " 'IN_DEFICIENCIA_MENTAL': dtype('int64'),\n",
       " 'IN_DEFICIT_ATENCAO': dtype('int64'),\n",
       " 'IN_DISLEXIA': dtype('int64'),\n",
       " 'IN_DISCALCULIA': dtype('int64'),\n",
       " 'IN_AUTISMO': dtype('int64'),\n",
       " 'IN_VISAO_MONOCULAR': dtype('int64'),\n",
       " 'IN_OUTRA_DEF': dtype('int64'),\n",
       " 'IN_GESTANTE': dtype('int64'),\n",
       " 'IN_LACTANTE': dtype('int64'),\n",
       " 'IN_IDOSO': dtype('int64'),\n",
       " 'IN_ESTUDA_CLASSE_HOSPITALAR': dtype('int64'),\n",
       " 'IN_SEM_RECURSO': dtype('int64'),\n",
       " 'IN_BRAILLE': dtype('int64'),\n",
       " 'IN_AMPLIADA_24': dtype('int64'),\n",
       " 'IN_AMPLIADA_18': dtype('int64'),\n",
       " 'IN_LEDOR': dtype('int64'),\n",
       " 'IN_ACESSO': dtype('int64'),\n",
       " 'IN_TRANSCRICAO': dtype('int64'),\n",
       " 'IN_LIBRAS': dtype('int64'),\n",
       " 'IN_TEMPO_ADICIONAL': dtype('int64'),\n",
       " 'IN_LEITURA_LABIAL': dtype('int64'),\n",
       " 'IN_MESA_CADEIRA_RODAS': dtype('int64'),\n",
       " 'IN_MESA_CADEIRA_SEPARADA': dtype('int64'),\n",
       " 'IN_APOIO_PERNA': dtype('int64'),\n",
       " 'IN_GUIA_INTERPRETE': dtype('int64'),\n",
       " 'IN_COMPUTADOR': dtype('int64'),\n",
       " 'IN_CADEIRA_ESPECIAL': dtype('int64'),\n",
       " 'IN_CADEIRA_CANHOTO': dtype('int64'),\n",
       " 'IN_CADEIRA_ACOLCHOADA': dtype('int64'),\n",
       " 'IN_PROVA_DEITADO': dtype('int64'),\n",
       " 'IN_MOBILIARIO_OBESO': dtype('int64'),\n",
       " 'IN_LAMINA_OVERLAY': dtype('int64'),\n",
       " 'IN_PROTETOR_AURICULAR': dtype('int64'),\n",
       " 'IN_MEDIDOR_GLICOSE': dtype('int64'),\n",
       " 'IN_MAQUINA_BRAILE': dtype('int64'),\n",
       " 'IN_SOROBAN': dtype('int64'),\n",
       " 'IN_MARCA_PASSO': dtype('int64'),\n",
       " 'IN_SONDA': dtype('int64'),\n",
       " 'IN_MEDICAMENTOS': dtype('int64'),\n",
       " 'IN_SALA_INDIVIDUAL': dtype('int64'),\n",
       " 'IN_SALA_ESPECIAL': dtype('int64'),\n",
       " 'IN_SALA_ACOMPANHANTE': dtype('int64'),\n",
       " 'IN_MOBILIARIO_ESPECIFICO': dtype('int64'),\n",
       " 'IN_MATERIAL_ESPECIFICO': dtype('int64'),\n",
       " 'IN_NOME_SOCIAL': dtype('int64'),\n",
       " 'CO_MUNICIPIO_PROVA': dtype('int64'),\n",
       " 'NO_MUNICIPIO_PROVA': dtype('O'),\n",
       " 'CO_UF_PROVA': dtype('int64'),\n",
       " 'SG_UF_PROVA': dtype('O'),\n",
       " 'TP_PRESENCA_CN': dtype('int64'),\n",
       " 'TP_PRESENCA_CH': dtype('int64'),\n",
       " 'TP_PRESENCA_LC': dtype('int64'),\n",
       " 'TP_PRESENCA_MT': dtype('int64'),\n",
       " 'CO_PROVA_CN': dtype('float64'),\n",
       " 'CO_PROVA_CH': dtype('float64'),\n",
       " 'CO_PROVA_LC': dtype('float64'),\n",
       " 'CO_PROVA_MT': dtype('float64'),\n",
       " 'NU_NOTA_CN': dtype('O'),\n",
       " 'NU_NOTA_CH': dtype('O'),\n",
       " 'NU_NOTA_LC': dtype('O'),\n",
       " 'NU_NOTA_MT': dtype('O'),\n",
       " 'TX_RESPOSTAS_CN': dtype('O'),\n",
       " 'TX_RESPOSTAS_CH': dtype('O'),\n",
       " 'TX_RESPOSTAS_LC': dtype('O'),\n",
       " 'TX_RESPOSTAS_MT': dtype('O'),\n",
       " 'TP_LINGUA': dtype('int64'),\n",
       " 'TX_GABARITO_CN': dtype('O'),\n",
       " 'TX_GABARITO_CH': dtype('O'),\n",
       " 'TX_GABARITO_LC': dtype('O'),\n",
       " 'TX_GABARITO_MT': dtype('O'),\n",
       " 'TP_STATUS_REDACAO': dtype('float64'),\n",
       " 'NU_NOTA_COMP1': dtype('float64'),\n",
       " 'NU_NOTA_COMP2': dtype('float64'),\n",
       " 'NU_NOTA_COMP3': dtype('float64'),\n",
       " 'NU_NOTA_COMP4': dtype('float64'),\n",
       " 'NU_NOTA_COMP5': dtype('float64'),\n",
       " 'NU_NOTA_REDACAO': dtype('float64'),\n",
       " 'Q001': dtype('O'),\n",
       " 'Q002': dtype('O'),\n",
       " 'Q003': dtype('O'),\n",
       " 'Q004': dtype('O'),\n",
       " 'Q005': dtype('int64'),\n",
       " 'Q006': dtype('O'),\n",
       " 'Q007': dtype('O'),\n",
       " 'Q008': dtype('O'),\n",
       " 'Q009': dtype('O'),\n",
       " 'Q010': dtype('O'),\n",
       " 'Q011': dtype('O'),\n",
       " 'Q012': dtype('O'),\n",
       " 'Q013': dtype('O'),\n",
       " 'Q014': dtype('O'),\n",
       " 'Q015': dtype('O'),\n",
       " 'Q016': dtype('O'),\n",
       " 'Q017': dtype('O'),\n",
       " 'Q018': dtype('O'),\n",
       " 'Q019': dtype('O'),\n",
       " 'Q020': dtype('O'),\n",
       " 'Q021': dtype('O'),\n",
       " 'Q022': dtype('O'),\n",
       " 'Q023': dtype('O'),\n",
       " 'Q024': dtype('O'),\n",
       " 'Q025': dtype('O')}"
      ]
     },
     "execution_count": 5,
     "metadata": {},
     "output_type": "execute_result"
    }
   ],
   "source": [
    "# Verificando Schema da Tabela\n",
    "dict(enem.dtypes)"
   ]
  },
  {
   "cell_type": "code",
   "execution_count": 6,
   "metadata": {},
   "outputs": [
    {
     "data": {
      "text/plain": [
       "0          15\n",
       "1          15\n",
       "2          15\n",
       "3          15\n",
       "4          15\n",
       "           ..\n",
       "5095265    29\n",
       "5095266    29\n",
       "5095267    29\n",
       "5095268    29\n",
       "5095269    29\n",
       "Name: CO_UF_RESIDENCIA, Length: 5095270, dtype: int64"
      ]
     },
     "execution_count": 6,
     "metadata": {},
     "output_type": "execute_result"
    }
   ],
   "source": [
    "#média; desvio padrão; min/max; porcentís - ponto de corte - mediana - apenas para dados ordenados\n",
    "enem.CO_UF_RESIDENCIA"
   ]
  },
  {
   "cell_type": "code",
   "execution_count": 8,
   "metadata": {},
   "outputs": [
    {
     "data": {
      "text/plain": [
       "0          PA\n",
       "1          PA\n",
       "2          PA\n",
       "3          PA\n",
       "4          PA\n",
       "           ..\n",
       "5095265    BA\n",
       "5095266    BA\n",
       "5095267    BA\n",
       "5095268    BA\n",
       "5095269    BA\n",
       "Name: SG_UF_RESIDENCIA, Length: 5095270, dtype: object"
      ]
     },
     "execution_count": 8,
     "metadata": {},
     "output_type": "execute_result"
    }
   ],
   "source": [
    "enem.SG_UF_RESIDENCIA"
   ]
  },
  {
   "cell_type": "code",
   "execution_count": 11,
   "metadata": {},
   "outputs": [],
   "source": [
    "# Retornar Apenas Dados de MG (começam com 31)\n",
    "enemMG = enem.loc[\n",
    "    (enem.SG_UF_RESIDENCIA == 'MG')\n",
    "]"
   ]
  },
  {
   "cell_type": "code",
   "execution_count": 12,
   "metadata": {},
   "outputs": [],
   "source": [
    "enemMG.to_csv('enem_MG.csv')"
   ]
  }
 ],
 "metadata": {
  "kernelspec": {
   "display_name": "Python 3",
   "language": "python",
   "name": "python3"
  },
  "language_info": {
   "codemirror_mode": {
    "name": "ipython",
    "version": 3
   },
   "file_extension": ".py",
   "mimetype": "text/x-python",
   "name": "python",
   "nbconvert_exporter": "python",
   "pygments_lexer": "ipython3",
   "version": "3.8.5"
  }
 },
 "nbformat": 4,
 "nbformat_minor": 4
}
